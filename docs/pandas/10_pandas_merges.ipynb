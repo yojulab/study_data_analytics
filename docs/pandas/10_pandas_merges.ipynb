{
  "nbformat": 4,
  "nbformat_minor": 0,
  "metadata": {
    "colab": {
      "provenance": [],
      "authorship_tag": "ABX9TyNel5cVyH0EMq0Q7SfWlvwG",
      "include_colab_link": true
    },
    "kernelspec": {
      "name": "python3",
      "display_name": "Python 3"
    },
    "language_info": {
      "name": "python"
    }
  },
  "cells": [
    {
      "cell_type": "markdown",
      "metadata": {
        "id": "view-in-github",
        "colab_type": "text"
      },
      "source": [
        "<a href=\"https://colab.research.google.com/github/yojulab/study_data_analytics/blob/main/docs/pandas/10_pandas_merges.ipynb\" target=\"_parent\"><img src=\"https://colab.research.google.com/assets/colab-badge.svg\" alt=\"Open In Colab\"/></a>"
      ]
    },
    {
      "cell_type": "markdown",
      "source": [
        "## pandas.concat()\n",
        "- dataset from https://www.kaggle.com/datasets/aestheteaman01/air-quality-across-countries-in-covid19\n",
        "- 중요점 : 같은 컬럼끼리 수직으로 붙임\n"
      ],
      "metadata": {
        "id": "KwMVYenGsUcW"
      }
    },
    {
      "cell_type": "code",
      "execution_count": 1,
      "metadata": {
        "colab": {
          "base_uri": "https://localhost:8080/"
        },
        "id": "7aAxjysErkXA",
        "outputId": "f6f29efb-29d1-4792-945c-54f9de9f6cd6"
      },
      "outputs": [
        {
          "output_type": "execute_result",
          "data": {
            "text/plain": [
              "((10683, 9), (37986, 9), (179365, 9))"
            ]
          },
          "metadata": {},
          "execution_count": 1
        }
      ],
      "source": [
        "import pandas as pd\n",
        "df_BRAZIL = pd.read_csv('BRAZIL.csv')\n",
        "df_ITALY = pd.read_csv('ITALY.csv')\n",
        "df_USA = pd.read_csv('USA.csv')\n",
        "df_BRAZIL.shape, df_ITALY.shape, df_USA.shape"
      ]
    },
    {
      "cell_type": "code",
      "source": [
        "df_merged = pd.concat(objs=[df_BRAZIL, df_ITALY, df_USA])\n",
        "df_merged.shape"
      ],
      "metadata": {
        "colab": {
          "base_uri": "https://localhost:8080/"
        },
        "id": "NAaZTuLPtM_k",
        "outputId": "4a44752a-1980-4e82-e420-aac9f183241f"
      },
      "execution_count": 3,
      "outputs": [
        {
          "output_type": "execute_result",
          "data": {
            "text/plain": [
              "(228034, 9)"
            ]
          },
          "metadata": {},
          "execution_count": 3
        }
      ]
    },
    {
      "cell_type": "code",
      "source": [],
      "metadata": {
        "id": "0XsgK7zGtiPd"
      },
      "execution_count": null,
      "outputs": []
    }
  ]
}